{
 "cells": [
  {
   "cell_type": "code",
   "execution_count": 1,
   "id": "d9fd06a8-b183-4c2b-96c6-a8a94608852d",
   "metadata": {},
   "outputs": [],
   "source": [
    "import matplotlib.pyplot as plt\n",
    "from matplotlib.offsetbox import AnnotationBbox, OffsetImage"
   ]
  },
  {
   "cell_type": "code",
   "execution_count": 2,
   "id": "8f2bbea6-3645-455f-b87d-2f2e519856d2",
   "metadata": {},
   "outputs": [
    {
     "data": {
      "image/png": "[encoded data removed]",
      "text/plain": [
       "<Figure size 640x480 with 1 Axes>"
      ]
     },
     "metadata": {},
     "output_type": "display_data"
    }
   ],
   "source": [
    "fig, ax = plt.subplots()"
   ]
  },
  {
   "cell_type": "code",
   "execution_count": 7,
   "id": "9da9e5d0-c2a5-4fcc-abba-05616d05f6bb",
   "metadata": {},
   "outputs": [],
   "source": [
    "import sys\n",
    "\n",
    "sys.path.append(\"/home/v1b3m/Dev/Pg/py\")"
   ]
  },
  {
   "cell_type": "code",
   "execution_count": 10,
   "id": "5b52c567-dc91-4396-87c4-dde7094c453c",
   "metadata": {},
   "outputs": [],
   "source": [
    "import matplotlib.pyplot as plt\n",
    "from PIL import Image\n",
    "import numpy as np\n",
    "\n",
    "pil_im = Image.open('/home/v1b3m/Dev/Pg/py/undraw_flowers_vx06.png') #Take jpg + png\n",
    "## Uncomment to open from URL\n",
    "#import requests\n",
    "#r = requests.get('https://www.vegvesen.no/public/webkamera/kamera?id=131206')\n",
    "#pil_im = Image.open(BytesIO(r.content))\n",
    "im_array = np.asarray(pil_im)\n",
    "# plt.imshow(im_array)\n",
    "# plt.show()"
   ]
  },
  {
   "cell_type": "code",
   "execution_count": 11,
   "id": "08a60506-7ccf-4b3c-93be-188821a02303",
   "metadata": {},
   "outputs": [],
   "source": [
    "arr_img = plt.imread(\"/home/v1b3m/Dev/Pg/py/undraw_flowers_vx06.png\")"
   ]
  },
  {
   "cell_type": "code",
   "execution_count": 12,
   "id": "fee9c740-e1a0-4f4c-b599-3221c00f57cc",
   "metadata": {},
   "outputs": [],
   "source": [
    "xy = [0.3, 0.55]"
   ]
  },
  {
   "cell_type": "code",
   "execution_count": 14,
   "id": "1d2804f7-03b4-4d0c-9d26-28ef279447f8",
   "metadata": {},
   "outputs": [],
   "source": [
    "imagebox = OffsetImage(arr_img, zoom=0.1)"
   ]
  },
  {
   "cell_type": "code",
   "execution_count": 15,
   "id": "62c44a3b-ce79-49cd-a5d5-3262bac2ea3f",
   "metadata": {},
   "outputs": [],
   "source": [
    "imagebox.image.axes = ax"
   ]
  },
  {
   "cell_type": "code",
   "execution_count": 16,
   "id": "5eb006d6-5f27-4bde-b536-bf774878e5e1",
   "metadata": {},
   "outputs": [],
   "source": [
    "ab = AnnotationBbox(\n",
    "    imagebox,\n",
    "    xy,\n",
    "    xybox=(120.0, -80.0),\n",
    "    xycoords=\"data\",\n",
    "    boxcoords=\"offset points\",\n",
    "    pad=0.5,\n",
    "    arrowprops=dict(arrowstyle=\"->\", connectionstyle=\"angle,angleA=0,angleB=90,rad=3\"),\n",
    ")"
   ]
  },
  {
   "cell_type": "code",
   "execution_count": 17,
   "id": "08053d5d-bb0d-4b01-99f4-e8cd13d08711",
   "metadata": {},
   "outputs": [],
   "source": [
    "ab.set_gid(\"My_label\")"
   ]
  },
  {
   "cell_type": "code",
   "execution_count": 18,
   "id": "6d40259d-b027-4b48-8de8-0de9a6fd3b0d",
   "metadata": {},
   "outputs": [
    {
     "data": {
      "text/plain": [
       "<matplotlib.offsetbox.AnnotationBbox at 0x7d3c8c57f230>"
      ]
     },
     "execution_count": 18,
     "metadata": {},
     "output_type": "execute_result"
    }
   ],
   "source": [
    "ax.add_artist(ab)"
   ]
  },
  {
   "cell_type": "code",
   "execution_count": 19,
   "id": "32de3c2d-1ea9-4e53-8abf-85689f7094c1",
   "metadata": {},
   "outputs": [
    {
     "name": "stdout",
     "output_type": "stream",
     "text": [
      "GID = My_label\n"
     ]
    }
   ],
   "source": [
    "# plt.show()\n",
    "print(f\"GID = {ab.get_gid()}\")"
   ]
  },
  {
   "cell_type": "code",
   "execution_count": 20,
   "id": "4c962ab2-4321-4fd5-ab3b-512f7acf770f",
   "metadata": {},
   "outputs": [],
   "source": [
    "fig.savefig(\"example.svg\", format=\"svg\")"
   ]
  },
  {
   "cell_type": "code",
   "execution_count": 21,
   "id": "ba1e6fdd-0188-4751-b591-f22dff29a6e1",
   "metadata": {},
   "outputs": [],
   "source": [
    "plt.show()"
   ]
  }
 ],
 "metadata": {
  "kernelspec": {
   "display_name": "pg1(py)",
   "language": "python",
   "name": "pg1"
  },
  "language_info": {
   "codemirror_mode": {
    "name": "ipython",
    "version": 3
   },
   "file_extension": ".py",
   "mimetype": "text/x-python",
   "name": "python",
   "nbconvert_exporter": "python",
   "pygments_lexer": "ipython3",
   "version": "3.13.2"
  }
 },
 "nbformat": 4,
 "nbformat_minor": 5
}
