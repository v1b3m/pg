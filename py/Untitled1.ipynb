{
 "cells": [
  {
   "cell_type": "code",
   "execution_count": 1,
   "id": "53510b06-a1e2-49ba-8832-0acb835243b9",
   "metadata": {},
   "outputs": [],
   "source": [
    "import io\n",
    "import xml.etree.ElementTree as ET\n",
    "\n",
    "import matplotlib.pyplot as plt\n",
    "\n",
    "from matplotlib.patches import Shadow"
   ]
  },
  {
   "cell_type": "code",
   "execution_count": 2,
   "id": "8435c9bc-1395-47c4-8e49-119831b201ec",
   "metadata": {},
   "outputs": [
    {
     "data": {
      "text/plain": [
       "<Figure size 600x600 with 0 Axes>"
      ]
     },
     "metadata": {},
     "output_type": "display_data"
    }
   ],
   "source": [
    "# make a square figure and Axes\n",
    "fig = plt.figure(figsize=(6, 6))"
   ]
  },
  {
   "cell_type": "code",
   "execution_count": 3,
   "id": "fc45eed9-ab6d-4c2f-8599-aa8ba7aa1183",
   "metadata": {},
   "outputs": [],
   "source": [
    "ax = fig.add_axes([0.1, 0.1, 0.8, 0.8])"
   ]
  },
  {
   "cell_type": "code",
   "execution_count": 4,
   "id": "ec3c78de-40f9-4263-9016-be36df48abdb",
   "metadata": {},
   "outputs": [],
   "source": [
    "labels = 'Frogs', 'Hogs', 'Dogs', 'Logs'\n",
    "fracs = [15, 30, 45, 10]\n",
    "\n",
    "explode = (0, 0.05, 0, 0)"
   ]
  },
  {
   "cell_type": "code",
   "execution_count": 5,
   "id": "924e1593-b4f1-4ca1-9f64-b46c468e0cbe",
   "metadata": {},
   "outputs": [],
   "source": [
    "# We want to draw the shadow for each pie, but we will not use \"shadow\"\n",
    "# option as it doesn't save the references to the shadow patches.\n",
    "pies = ax.pie(fracs, explode=explode, labels=labels, autopct='%1.1f%%')"
   ]
  },
  {
   "cell_type": "code",
   "execution_count": 6,
   "id": "35d26ca3-9690-489c-9684-461ce2ea4cb2",
   "metadata": {},
   "outputs": [
    {
     "data": {
      "text/plain": [
       "([<matplotlib.patches.Wedge at 0x79d7b8269e80>,\n",
       "  <matplotlib.patches.Wedge at 0x79d7b83c3c50>,\n",
       "  <matplotlib.patches.Wedge at 0x79d7b83c2210>,\n",
       "  <matplotlib.patches.Wedge at 0x79d7b8286210>],\n",
       " [Text(0.980107155175532, 0.4993895917755252, 'Frogs'),\n",
       "  Text(-0.3553697312815348, 1.0937149327356237, 'Hogs'),\n",
       "  Text(-0.4993892587836722, -0.9801073248433024, 'Dogs'),\n",
       "  Text(1.0461621838648125, -0.339918644753721, 'Logs')],\n",
       " [Text(0.5346039028230174, 0.2723943227866501, '15.0%'),\n",
       "  Text(-0.20086115246347622, 0.6181867011114394, '30.0%'),\n",
       "  Text(-0.27239414115473026, -0.534603995369074, '45.0%'),\n",
       "  Text(0.5706339184717159, -0.185410169865666, '10.0%')])"
      ]
     },
     "execution_count": 6,
     "metadata": {},
     "output_type": "execute_result"
    }
   ],
   "source": [
    "pies"
   ]
  },
  {
   "cell_type": "code",
   "execution_count": 7,
   "id": "b141216d-3084-4221-8468-3cfbef9eec92",
   "metadata": {},
   "outputs": [],
   "source": [
    "for w in pies[0]:\n",
    "    # set the id with the label.\n",
    "    w.set_gid(w.get_label())\n",
    "\n",
    "    # we don't want to draw the edge of the pie\n",
    "    w.set_edgecolor(\"none\")"
   ]
  },
  {
   "cell_type": "code",
   "execution_count": 8,
   "id": "b6138978-245e-4b6d-9e77-2c7cc2e5418e",
   "metadata": {},
   "outputs": [],
   "source": [
    "for w in pies[0]:\n",
    "    # create shadow patch\n",
    "    s = Shadow(w, -0.01, -0.01)\n",
    "    s.set_gid(w.get_gid() + \"_shadow\")\n",
    "    s.set_zorder(w.get_zorder() - 0.1)\n",
    "    ax.add_patch(s)"
   ]
  },
  {
   "cell_type": "code",
   "execution_count": 9,
   "id": "0ef02dd6-d04f-4405-a28e-41d10ae157e1",
   "metadata": {},
   "outputs": [
    {
     "data": {
      "text/plain": [
       "<Figure size 640x480 with 0 Axes>"
      ]
     },
     "metadata": {},
     "output_type": "display_data"
    }
   ],
   "source": [
    "# save\n",
    "f = io.BytesIO()\n",
    "plt.savefig(f, format=\"svg\")"
   ]
  },
  {
   "cell_type": "code",
   "execution_count": 10,
   "id": "6bacc1d3-89b0-4491-ac2b-cce4303bda7f",
   "metadata": {},
   "outputs": [],
   "source": [
    "# Filter definition for shadow using a gaussian blur and lighting effect.\n",
    "# The lighting filter is copied from http://www.w3.org/TR/SVG/filters.html\n",
    "\n",
    "# I tested it with Inkscape and Firefox3. \"Gaussian blur\" is supported\n",
    "# in both, but the lighting effect only in Inkscape. Also note\n",
    "# that, Inkscape's exporting also may not support it.\n",
    "\n",
    "filter_def = \"\"\"\n",
    "  <defs xmlns='http://www.w3.org/2000/svg'\n",
    "        xmlns:xlink='http://www.w3.org/1999/xlink'>\n",
    "    <filter id='dropshadow' height='1.2' width='1.2'>\n",
    "      <feGaussianBlur result='blur' stdDeviation='2'/>\n",
    "    </filter>\n",
    "\n",
    "    <filter id='MyFilter' filterUnits='objectBoundingBox'\n",
    "            x='0' y='0' width='1' height='1'>\n",
    "      <feGaussianBlur in='SourceAlpha' stdDeviation='4%' result='blur'/>\n",
    "      <feOffset in='blur' dx='4%' dy='4%' result='offsetBlur'/>\n",
    "      <feSpecularLighting in='blur' surfaceScale='5' specularConstant='.75'\n",
    "           specularExponent='20' lighting-color='#bbbbbb' result='specOut'>\n",
    "        <fePointLight x='-5000%' y='-10000%' z='20000%'/>\n",
    "      </feSpecularLighting>\n",
    "      <feComposite in='specOut' in2='SourceAlpha'\n",
    "                   operator='in' result='specOut'/>\n",
    "      <feComposite in='SourceGraphic' in2='specOut' operator='arithmetic'\n",
    "    k1='0' k2='1' k3='1' k4='0'/>\n",
    "    </filter>\n",
    "  </defs>\n",
    "\"\"\"\n",
    "\n",
    "\n",
    "tree, xmlid = ET.XMLID(f.getvalue())\n",
    "\n",
    "# insert the filter definition in the svg dom tree.\n",
    "tree.insert(0, ET.XML(filter_def))"
   ]
  },
  {
   "cell_type": "code",
   "execution_count": 11,
   "id": "3b6926c9-a182-4e0e-b372-9cf6bc0190db",
   "metadata": {},
   "outputs": [
    {
     "ename": "KeyError",
     "evalue": "'Frogs'",
     "output_type": "error",
     "traceback": [
      "\u001b[0;31m---------------------------------------------------------------------------\u001b[0m",
      "\u001b[0;31mKeyError\u001b[0m                                  Traceback (most recent call last)",
      "Cell \u001b[0;32mIn[11], line 2\u001b[0m\n\u001b[1;32m      1\u001b[0m \u001b[38;5;28;01mfor\u001b[39;00m i, pie_name \u001b[38;5;129;01min\u001b[39;00m \u001b[38;5;28menumerate\u001b[39m(labels):\n\u001b[0;32m----> 2\u001b[0m     pie \u001b[38;5;241m=\u001b[39m xmlid[pie_name]\n\u001b[1;32m      3\u001b[0m     pie\u001b[38;5;241m.\u001b[39mset(\u001b[38;5;124m\"\u001b[39m\u001b[38;5;124mfilter\u001b[39m\u001b[38;5;124m\"\u001b[39m, \u001b[38;5;124m'\u001b[39m\u001b[38;5;124murl(#MyFilter)\u001b[39m\u001b[38;5;124m'\u001b[39m)\n\u001b[1;32m      5\u001b[0m     shadow \u001b[38;5;241m=\u001b[39m xmlid[pie_name \u001b[38;5;241m+\u001b[39m \u001b[38;5;124m\"\u001b[39m\u001b[38;5;124m_shadow\u001b[39m\u001b[38;5;124m\"\u001b[39m]\n",
      "\u001b[0;31mKeyError\u001b[0m: 'Frogs'"
     ]
    }
   ],
   "source": [
    "for i, pie_name in enumerate(labels):\n",
    "    pie = xmlid[pie_name]\n",
    "    pie.set(\"filter\", 'url(#MyFilter)')\n",
    "\n",
    "    shadow = xmlid[pie_name + \"_shadow\"]\n",
    "    shadow.set(\"filter\", 'url(#dropshadow)')\n",
    "\n",
    "fn = \"svg_filter_pie.svg\"\n",
    "print(f\"Saving '{fn}'\")\n",
    "ET.ElementTree(tree).write(fn)"
   ]
  },
  {
   "cell_type": "code",
   "execution_count": null,
   "id": "7dfe377b-51e8-4ac1-a7f9-bf932524f6cb",
   "metadata": {},
   "outputs": [],
   "source": []
  }
 ],
 "metadata": {
  "kernelspec": {
   "display_name": "pg1(py)",
   "language": "python",
   "name": "pg1"
  },
  "language_info": {
   "codemirror_mode": {
    "name": "ipython",
    "version": 3
   },
   "file_extension": ".py",
   "mimetype": "text/x-python",
   "name": "python",
   "nbconvert_exporter": "python",
   "pygments_lexer": "ipython3",
   "version": "3.13.2"
  }
 },
 "nbformat": 4,
 "nbformat_minor": 5
}
